{
 "cells": [
  {
   "cell_type": "markdown",
   "metadata": {},
   "source": [
    "# Simulation der $T^2$-$Q$-Residuen einer PCA mit multivariat-normalverteilten Daten\n",
    "\n",
    "Ziel: die korrekte theoretische Verteilung der $T^2$- und $Q$-Residuen bestimmen, um daraus korrekt 95%-Quantile für $T^2$-Q-Plot (bzw. für SIMCA) zu bestimmen."
   ]
  },
  {
   "cell_type": "code",
   "execution_count": 1,
   "metadata": {},
   "outputs": [],
   "source": [
    "# import libs\n",
    "import pandas as pd\n",
    "from sklearn.datasets import load_iris\n",
    "from sklearn.decomposition import PCA\n",
    "from sklearn.preprocessing import StandardScaler\n",
    "import matplotlib.pyplot as plt\n",
    "import numpy as np\n",
    "import scipy.stats\n",
    "from scipy.linalg import fractional_matrix_power"
   ]
  },
  {
   "cell_type": "markdown",
   "metadata": {},
   "source": [
    "## Multivariate-normalverteilte Daten (mit Kovarianz!) erzeugen"
   ]
  },
  {
   "cell_type": "code",
   "execution_count": 2,
   "metadata": {},
   "outputs": [
    {
     "name": "stdout",
     "output_type": "stream",
     "text": [
      "Covmat before transformation:\n"
     ]
    },
    {
     "data": {
      "text/html": [
       "<div>\n",
       "<style scoped>\n",
       "    .dataframe tbody tr th:only-of-type {\n",
       "        vertical-align: middle;\n",
       "    }\n",
       "\n",
       "    .dataframe tbody tr th {\n",
       "        vertical-align: top;\n",
       "    }\n",
       "\n",
       "    .dataframe thead th {\n",
       "        text-align: right;\n",
       "    }\n",
       "</style>\n",
       "<table border=\"1\" class=\"dataframe\">\n",
       "  <thead>\n",
       "    <tr style=\"text-align: right;\">\n",
       "      <th></th>\n",
       "      <th>0</th>\n",
       "      <th>1</th>\n",
       "      <th>2</th>\n",
       "      <th>3</th>\n",
       "      <th>4</th>\n",
       "    </tr>\n",
       "  </thead>\n",
       "  <tbody>\n",
       "    <tr>\n",
       "      <th>0</th>\n",
       "      <td>0.996018</td>\n",
       "      <td>0.000325</td>\n",
       "      <td>-0.004954</td>\n",
       "      <td>0.011282</td>\n",
       "      <td>0.002843</td>\n",
       "    </tr>\n",
       "    <tr>\n",
       "      <th>1</th>\n",
       "      <td>0.000325</td>\n",
       "      <td>0.998110</td>\n",
       "      <td>-0.000315</td>\n",
       "      <td>-0.001518</td>\n",
       "      <td>0.002327</td>\n",
       "    </tr>\n",
       "    <tr>\n",
       "      <th>2</th>\n",
       "      <td>-0.004954</td>\n",
       "      <td>-0.000315</td>\n",
       "      <td>1.003315</td>\n",
       "      <td>-0.001008</td>\n",
       "      <td>-0.003898</td>\n",
       "    </tr>\n",
       "    <tr>\n",
       "      <th>3</th>\n",
       "      <td>0.011282</td>\n",
       "      <td>-0.001518</td>\n",
       "      <td>-0.001008</td>\n",
       "      <td>0.996103</td>\n",
       "      <td>0.000365</td>\n",
       "    </tr>\n",
       "    <tr>\n",
       "      <th>4</th>\n",
       "      <td>0.002843</td>\n",
       "      <td>0.002327</td>\n",
       "      <td>-0.003898</td>\n",
       "      <td>0.000365</td>\n",
       "      <td>1.001009</td>\n",
       "    </tr>\n",
       "  </tbody>\n",
       "</table>\n",
       "</div>"
      ],
      "text/plain": [
       "          0         1         2         3         4\n",
       "0  0.996018  0.000325 -0.004954  0.011282  0.002843\n",
       "1  0.000325  0.998110 -0.000315 -0.001518  0.002327\n",
       "2 -0.004954 -0.000315  1.003315 -0.001008 -0.003898\n",
       "3  0.011282 -0.001518 -0.001008  0.996103  0.000365\n",
       "4  0.002843  0.002327 -0.003898  0.000365  1.001009"
      ]
     },
     "metadata": {},
     "output_type": "display_data"
    },
    {
     "name": "stdout",
     "output_type": "stream",
     "text": [
      "Covmat after transformation:\n"
     ]
    },
    {
     "data": {
      "text/html": [
       "<div>\n",
       "<style scoped>\n",
       "    .dataframe tbody tr th:only-of-type {\n",
       "        vertical-align: middle;\n",
       "    }\n",
       "\n",
       "    .dataframe tbody tr th {\n",
       "        vertical-align: top;\n",
       "    }\n",
       "\n",
       "    .dataframe thead th {\n",
       "        text-align: right;\n",
       "    }\n",
       "</style>\n",
       "<table border=\"1\" class=\"dataframe\">\n",
       "  <thead>\n",
       "    <tr style=\"text-align: right;\">\n",
       "      <th></th>\n",
       "      <th>0</th>\n",
       "      <th>1</th>\n",
       "      <th>2</th>\n",
       "      <th>3</th>\n",
       "      <th>4</th>\n",
       "    </tr>\n",
       "  </thead>\n",
       "  <tbody>\n",
       "    <tr>\n",
       "      <th>0</th>\n",
       "      <td>5.992693</td>\n",
       "      <td>3.769879</td>\n",
       "      <td>1.613716</td>\n",
       "      <td>4.914880</td>\n",
       "      <td>3.466874</td>\n",
       "    </tr>\n",
       "    <tr>\n",
       "      <th>1</th>\n",
       "      <td>3.769879</td>\n",
       "      <td>5.592366</td>\n",
       "      <td>2.887370</td>\n",
       "      <td>2.459834</td>\n",
       "      <td>2.227535</td>\n",
       "    </tr>\n",
       "    <tr>\n",
       "      <th>2</th>\n",
       "      <td>1.613716</td>\n",
       "      <td>2.887370</td>\n",
       "      <td>3.552218</td>\n",
       "      <td>-0.053131</td>\n",
       "      <td>3.969646</td>\n",
       "    </tr>\n",
       "    <tr>\n",
       "      <th>3</th>\n",
       "      <td>4.914880</td>\n",
       "      <td>2.459834</td>\n",
       "      <td>-0.053131</td>\n",
       "      <td>6.543900</td>\n",
       "      <td>-0.129939</td>\n",
       "    </tr>\n",
       "    <tr>\n",
       "      <th>4</th>\n",
       "      <td>3.466874</td>\n",
       "      <td>2.227535</td>\n",
       "      <td>3.969646</td>\n",
       "      <td>-0.129939</td>\n",
       "      <td>7.610233</td>\n",
       "    </tr>\n",
       "  </tbody>\n",
       "</table>\n",
       "</div>"
      ],
      "text/plain": [
       "          0         1         2         3         4\n",
       "0  5.992693  3.769879  1.613716  4.914880  3.466874\n",
       "1  3.769879  5.592366  2.887370  2.459834  2.227535\n",
       "2  1.613716  2.887370  3.552218 -0.053131  3.969646\n",
       "3  4.914880  2.459834 -0.053131  6.543900 -0.129939\n",
       "4  3.466874  2.227535  3.969646 -0.129939  7.610233"
      ]
     },
     "metadata": {},
     "output_type": "display_data"
    }
   ],
   "source": [
    "# create random multivariate normal data\n",
    "\n",
    "N = int(1e5) # no of data points\n",
    "M = 5 # no of varibles\n",
    "\n",
    "X0 = np.random.randn(N,M) # random raw data before trafo (uncorrelated)\n",
    "Trafo = np.random.randn(M,M) # random transformation\n",
    "XT = np.matmul(X0,Trafo) # final data set (correlated)\n",
    "\n",
    "for info, X in {'before': X0, 'after': XT}.items():\n",
    "    print('Covmat {} transformation:'.format(info))\n",
    "    display(pd.DataFrame(np.cov(X, rowvar=False)))\n",
    "\n",
    "# Daten standardisieren\n",
    "scaler = StandardScaler()\n",
    "X = scaler.fit_transform(XT)"
   ]
  },
  {
   "cell_type": "markdown",
   "metadata": {},
   "source": [
    "## PCA durchführen"
   ]
  },
  {
   "cell_type": "code",
   "execution_count": 3,
   "metadata": {},
   "outputs": [
    {
     "name": "stdout",
     "output_type": "stream",
     "text": [
      "PCA eigenvalues: [2.83033885 1.4370349 ]\n"
     ]
    },
    {
     "data": {
      "text/plain": [
       "'\\nplt.figure()\\nlw = 1 # symobl size \\n\\nplt.scatter(scores[:, 0], scores[:, 1], alpha=0.8, lw=lw)\\nplt.legend(loc=\"best\", shadow=False, scatterpoints=1)\\nplt.xlabel(\\'PC1\\')\\nplt.ylabel(\\'PC2\\')\\nplt.title(\"PCA scores (scaled)\")\\n\\nplt.figure()\\nplt.scatter(loadings[:,0], loadings[:,1])\\nax = plt.gca()\\nplt.xlabel(\\'PC1\\')\\nplt.ylabel(\\'PC2\\')\\nplt.title(\"PCA loadings (scaled)\")\\n\\nplt.plot(pca.explained_variance_ratio_ * 100,\\'.-\\', label=\\'per component\\')\\nplt.plot(np.cumsum(pca.explained_variance_ratio_ * 100),\\'.-\\', label=\\'cumulative\\')\\nplt.xlabel(\\'# of components\\')\\nplt.ylabel(\\'explained variance [%]\\')\\nplt.ylim([0, 100])\\nplt.legend()\\n'"
      ]
     },
     "execution_count": 3,
     "metadata": {},
     "output_type": "execute_result"
    }
   ],
   "source": [
    "# PCA durchführen\n",
    "n_components = 2\n",
    "pca = PCA(n_components=n_components).fit(X)\n",
    "scores = pca.transform(X)\n",
    "loadings = pca.components_.T\n",
    "\n",
    "print('PCA eigenvalues:', pca.explained_variance_)\n",
    "\n",
    "\"\"\"\n",
    "plt.figure()\n",
    "lw = 1 # symobl size \n",
    "\n",
    "plt.scatter(scores[:, 0], scores[:, 1], alpha=0.8, lw=lw)\n",
    "plt.legend(loc=\"best\", shadow=False, scatterpoints=1)\n",
    "plt.xlabel('PC1')\n",
    "plt.ylabel('PC2')\n",
    "plt.title(\"PCA scores (scaled)\")\n",
    "\n",
    "plt.figure()\n",
    "plt.scatter(loadings[:,0], loadings[:,1])\n",
    "ax = plt.gca()\n",
    "plt.xlabel('PC1')\n",
    "plt.ylabel('PC2')\n",
    "plt.title(\"PCA loadings (scaled)\")\n",
    "\n",
    "plt.plot(pca.explained_variance_ratio_ * 100,'.-', label='per component')\n",
    "plt.plot(np.cumsum(pca.explained_variance_ratio_ * 100),'.-', label='cumulative')\n",
    "plt.xlabel('# of components')\n",
    "plt.ylabel('explained variance [%]')\n",
    "plt.ylim([0, 100])\n",
    "plt.legend()\n",
    "\"\"\"\n"
   ]
  },
  {
   "cell_type": "markdown",
   "metadata": {},
   "source": [
    "## $T^2$-Residuen berechnen und Quantil bestimmen (empirsich & theoretisch)"
   ]
  },
  {
   "cell_type": "code",
   "execution_count": 4,
   "metadata": {},
   "outputs": [
    {
     "name": "stdout",
     "output_type": "stream",
     "text": [
      "0.95-quantile of T2 residuals (exact value from F distr., approx. value from chi2 distr., empirical value): 5.991703960129627 5.991464547107979 6.0064933337142605\n"
     ]
    },
    {
     "data": {
      "image/png": "[encoded data removed]",
      "text/plain": [
       "<Figure size 432x288 with 1 Axes>"
      ]
     },
     "metadata": {
      "needs_background": "light"
     },
     "output_type": "display_data"
    }
   ],
   "source": [
    "conf=0.95 # confidence level\n",
    "\n",
    "N, M = X.shape # no of data points, no of variables\n",
    "\n",
    "# Calculate Hotelling's T-squared\n",
    "Tsq = np.sum((scores/np.std(scores, axis=0, ddof=1))**2, axis=1) # normalize with unbiased SD (ddof=1)\n",
    "# compute empirical 95%-quantile for T-squared\n",
    "Tsq_conf_emp = np.quantile(Tsq, conf)\n",
    "# compute theoretical 95%-quantile for T-squared from the ppf of the F distribution\n",
    "df1 = n_components # no of variables\n",
    "dof = N - 1 # d.o.f.\n",
    "df2 = dof - df1 + 1\n",
    "scaling_Tsq_to_F = df2/(df1 * dof)\n",
    "Tsq_conf =  scipy.stats.f.ppf(q=conf, dfn=df1, dfd=df2) / scaling_Tsq_to_F\n",
    "# compute approximate theoretical 95%-quantile for T-squared from the ppf of the chi-squared distribution\n",
    "Tsq_conf_chi2 = scipy.stats.chi2.ppf(q=conf, df=df1)\n",
    "print(\"{conf}-quantile of T2 residuals (exact value from F distr., approx. value from chi2 distr., empirical value):\".format(conf=conf),\n",
    "      Tsq_conf, Tsq_conf_chi2, Tsq_conf_emp)\n",
    "# Plot empirical distribution of Tsq and compare with theoretical distributions\n",
    "plt.hist(Tsq, bins=100, density=True)\n",
    "plt.title('T2 distribution')\n",
    "xvals = np.linspace(0, np.max(Tsq), 1000)\n",
    "pdf_theoretical = scipy.stats.f.pdf(xvals * scaling_Tsq_to_F, df1, df2) * scaling_Tsq_to_F\n",
    "pdf_theo_approx = scipy.stats.chi2.pdf(xvals, df1)\n",
    "plt.plot(xvals, pdf_theoretical, xvals, pdf_theo_approx, ':')\n",
    "plt.show()"
   ]
  },
  {
   "cell_type": "markdown",
   "metadata": {},
   "source": [
    "**Zwischenfazit**\n",
    "* für multivariat-normalverteilte Daten stimmen empirisches und theoretisches Quantil sehr gut überein\n",
    "* die $T^2$-Werte folgen in diesem Fall wie erwartet der Hotelling-Statistik (die eine skalierte F-Verteilung ist)\n",
    "* Da $N$ sehr groß ist (viele Beobachtungen), kann statt der F bzw. Hotelling-Statistik auch einfach die $\\chi^2$-Verteilung verwendet werden, um das theoretische Quantil zu berechnen"
   ]
  },
  {
   "cell_type": "markdown",
   "metadata": {},
   "source": [
    "## $Q$-Residuen berechnen und 95%-Quantil berechnen (empirisch & theoretisch)"
   ]
  },
  {
   "cell_type": "code",
   "execution_count": 5,
   "metadata": {},
   "outputs": [
    {
     "name": "stdout",
     "output_type": "stream",
     "text": [
      "0.95-quantile of Q residuals (theoretical value, empirical value): 2.4050690865617215 2.3825690798096284\n"
     ]
    },
    {
     "data": {
      "image/png": "[encoded data removed]",
      "text/plain": [
       "<Figure size 432x288 with 1 Axes>"
      ]
     },
     "metadata": {
      "needs_background": "light"
     },
     "output_type": "display_data"
    },
    {
     "data": {
      "image/png": "[encoded data removed]",
      "text/plain": [
       "<Figure size 432x288 with 1 Axes>"
      ]
     },
     "metadata": {
      "needs_background": "light"
     },
     "output_type": "display_data"
    }
   ],
   "source": [
    "# Calculate Q residuals\n",
    "#residuals (\"errors\")\n",
    "res = X - np.dot(scores,loadings.T)\n",
    "# Q residuals\n",
    "Q = np.sum(res**2, axis=1)\n",
    "# compute empirical 95%-quantile for Q residuals\n",
    "Q_conf_emp = np.quantile(Q, conf)\n",
    "# compute theoretical 95%-quantile for Q, according to Jackson and Mudholkar (1979), Eq. (3.4)\n",
    "lambda_ = np.linalg.eigvals(np.cov(X, rowvar=False))\n",
    "theta = {i: np.sum(np.power(lambda_[n_components:], i)) for i in [1,2,3]}\n",
    "h0 = 1 - 2 * theta[1] * theta[3] / (3 * theta[2]**2)\n",
    "calpha = scipy.stats.norm.ppf(conf)\n",
    "fraction1 = calpha * np.sqrt(2 * theta[2] * h0**2) / theta[1]\n",
    "fraction2 = theta[2]*h0*(h0-1) / theta[1]**2\n",
    "Q_conf = theta[1] * (1 + fraction1 + fraction2)**(1/h0)\n",
    "print(\"{conf}-quantile of Q residuals (theoretical value, empirical value):\".format(conf=conf),\n",
    "      Q_conf, Q_conf_emp)\n",
    "\n",
    "# Plot empirical distribution of Q\n",
    "plt.hist(Q, bins=100, density=True)\n",
    "plt.title('Q distribution')\n",
    "\n",
    "# Plot empirical distribution of c values\n",
    "# (= transformed Q residuals, cf. Eq. (3.3) in Jackson and Mudholkar)\n",
    "# and compare with standard normal distribution\n",
    "c = theta[1] * ((Q/theta[1])**(h0) - 1 - theta[2]*h0*(h0-1)/theta[1]**2)/np.sqrt(2*theta[2]*h0**2)\n",
    "\n",
    "plt.figure()\n",
    "plt.hist(c, bins=100, density=True)\n",
    "xvals = np.linspace(-np.max(abs(c)), +np.max(abs(c)), 1000)\n",
    "pdf_theoretical = scipy.stats.norm.pdf(xvals, loc=0, scale=1)\n",
    "plt.plot(xvals, pdf_theoretical)\n",
    "plt.title('c distribution (= transformed Q residuals), should (approx.) match standard normal distribution')\n",
    "plt.show()"
   ]
  },
  {
   "cell_type": "markdown",
   "metadata": {},
   "source": [
    "**Zwischenfazit**\n",
    "* für multivariat-normalverteilte Daten stimmen empirisches und theoretisches relativ gut überein (die Theorie ist hier auch nur eine Approximation, im Gegensatz zu den $T^2$-Werten)\n",
    "* die c-Werte (transformierte Q-Werte) folgen näherungsweise einer Standardnormalverteilung"
   ]
  },
  {
   "cell_type": "markdown",
   "metadata": {},
   "source": [
    "## $T^2$-$Q$-Plot mit theoretischen und empirischen Quantilen"
   ]
  },
  {
   "cell_type": "code",
   "execution_count": 6,
   "metadata": {},
   "outputs": [
    {
     "data": {
      "image/png": "[encoded data removed]",
      "text/plain": [
       "<Figure size 432x288 with 1 Axes>"
      ]
     },
     "metadata": {
      "needs_background": "light"
     },
     "output_type": "display_data"
    }
   ],
   "source": [
    "# create T^2-Q-Plot\n",
    "fig = plt.figure()\n",
    "with plt.style.context(('ggplot')):\n",
    "    fig = plt.plot(Tsq, Q, '.', alpha=1./np.log10(N))\n",
    "    plt.plot([Tsq_conf,Tsq_conf],[plt.axis()[2],plt.axis()[3]],  '-')\n",
    "    plt.plot([Tsq_conf_emp,Tsq_conf_emp],[plt.axis()[2],plt.axis()[3]],  ':')\n",
    "    plt.plot([plt.axis()[0],plt.axis()[1]],[Q_conf,Q_conf],  '-')\n",
    "    plt.plot([plt.axis()[0],plt.axis()[1]],[Q_conf_emp,Q_conf_emp],  ':')\n",
    "    plt.xlabel(\"Hotelling's T-squared\")\n",
    "    plt.ylabel('Q residuals')\n",
    "    plt.legend(['data', '95%-quantile T2 (theoretical)', '95%-quantile T2 (empirical)',\n",
    "                '95%-quantile Q (theoretical)', '95%-quantile Q (empirical)'])\n"
   ]
  },
  {
   "cell_type": "markdown",
   "metadata": {},
   "source": [
    "## Verzweifelter Versuch, auch Q-Residuen durch eine F- oder $\\chi^2$-Verteilung zu beschreiben\n",
    "Das grundsätzliche Problem mit den Q-Werten ist, dass sie aus _nicht_-standardisierten Residuen berechnet werden. (Im Gegensatz zu den Tsq-Werten, bei deren Berechnung die scores standardisiert eingehen.) Dadurch sind die Q-Werte nicht einfach Summen über standardnormalverteilte Größen. Insbesondere sind die Q-Werte abhängig von der (Ko-)Varianzstruktur der Ausgangsdaten. D.h. es kann keine universelle theoretische Verteilung der Q-Werte geben, in die nur die Dimension der Datenmatrix und die Anzahl Komponenten der PCA eingeht, so wie es bei den Tsq-Werten der Fall ist.\n",
    "\n",
    "Beispiel: Angenommen $k$ Ursprungsvariablen sind perfekt kollinear, d.h. $k$ Eigenwerte der PCA sind 0. Wählt man $n_{components} = M - k$, also $k$ Dimensionen für den Residuenraum, dann liegen allen Datenpunkte perfekt in der PCA-Ebene, d.h. alle Residuen sind 0 und somit $Q=0$. Sind die Daten hingegen nicht perfekt kollinear, ist $Q\\ne 0$. D.h. für die gleichen Dimension der Datenmatrix und gleiches $n_{components}$ sind unterschiedliche $Q$-Verteilungen möglich.\n",
    "\n",
    "Um die $Q$-Werte ähnlich den $T^2$-Werten zu behandeln, müssten man die Residuen also standardisieren. Im Gegensatz zu den Scorses reicht es aber nicht, sie nur durch ihre Std.abw. zu teilen, denn ihre Kovarianz untereinander ist nicht 0. D.h. man muss die Residuen zunächst \"drehen\" in das Koordiatensystem der PCA, und dann dort Q berechnen. Dann sind aber Q und Tsq sehr eng verwandt, was wahrscheinlich für die Praxis der PCA / SIMCA nicht sinnvoll ist..."
   ]
  },
  {
   "cell_type": "code",
   "execution_count": 7,
   "metadata": {},
   "outputs": [
    {
     "name": "stdout",
     "output_type": "stream",
     "text": [
      "Covmat of rotated residuals: [[1.00000000e+00 2.48603626e-17 9.16771833e-15]\n",
      " [2.48603626e-17 1.00000000e+00 2.94192504e-15]\n",
      " [9.16771833e-15 2.94192504e-15 1.00000000e+00]]\n"
     ]
    },
    {
     "data": {
      "image/png": "[encoded data removed]",
      "text/plain": [
       "<Figure size 432x288 with 1 Axes>"
      ]
     },
     "metadata": {
      "needs_background": "light"
     },
     "output_type": "display_data"
    }
   ],
   "source": [
    "pca_full = PCA(n_components=M).fit(X) # PCA with all components\n",
    "loadings_full = pca_full.components_.T\n",
    "\n",
    "res_rotated = np.matmul(res, loadings_full) # rotate residuals to uncorrelated space\n",
    "\n",
    "res_std = res_rotated[:,n_components:] # pick only residual components (others are zero after rotation)\n",
    "res_std = res_std / np.std(res_std, axis=0, ddof=1) # standardize residual components\n",
    "\n",
    "print('Covmat of rotated residuals:', np.cov(res_std, rowvar=False)) # double check: is this a unit matrix?\n",
    "\n",
    "Qstd = np.sum(res_std**2, axis=1)\n",
    "plt.hist(Qstd, bins=100, density=True)\n",
    "plt.title('Q distribution for standardized residuals')\n",
    "\n",
    "df1 = M - n_components\n",
    "dof = N - 1 # d.o.f.\n",
    "df2 = dof - df1 + 1\n",
    "scaling_Tsq_to_F = df2/(df1 * dof)\n",
    "\n",
    "xvals = np.linspace(0, np.max(Q), 1000)\n",
    "pdf_theoretical = scipy.stats.f.pdf(xvals * scaling_Tsq_to_F, df1, df2) * scaling_Tsq_to_F\n",
    "pdf_theo_approx = scipy.stats.chi2.pdf(xvals, df1)\n",
    "plt.plot(xvals, pdf_theoretical, xvals, pdf_theo_approx, ':')\n",
    "plt.show()"
   ]
  },
  {
   "cell_type": "markdown",
   "metadata": {},
   "source": [
    "**Zwischenfazit**\n",
    "* dreht man die Residuen in das rotierte Koordinatensystem, sind $n_{components}$ ihrer Komponenten 0\n",
    "* standardisiert die verbleibenden Komponenten, ist deren Q-Wert (analog zu den Tsq-Werten) Hotelling- bzw. F-verteilt, näherungsweise auch $\\chi^2$\n",
    "* Was bringt's? Wahrscheinlich nicht viel, denn Residuen standardisieren ist für PCA / SIMCA wahrscheinlich nicht sinnvoll, man will ja seine \"noise\"-Dimensionen nicht künstlich aufblasen indem man durch extrem kleine Std.abw. teilt"
   ]
  },
  {
   "cell_type": "markdown",
   "metadata": {},
   "source": []
  }
 ],
 "metadata": {
  "interpreter": {
   "hash": "cd5676bc0f167cd11989ec35791fdaef83e0945363b474140e99c20ac7b03418"
  },
  "kernelspec": {
   "display_name": "Python 3.8.12 ('ADS')",
   "language": "python",
   "name": "python3"
  },
  "language_info": {
   "codemirror_mode": {
    "name": "ipython",
    "version": 3
   },
   "file_extension": ".py",
   "mimetype": "text/x-python",
   "name": "python",
   "nbconvert_exporter": "python",
   "pygments_lexer": "ipython3",
   "version": "3.8.12"
  },
  "orig_nbformat": 4
 },
 "nbformat": 4,
 "nbformat_minor": 2
}
